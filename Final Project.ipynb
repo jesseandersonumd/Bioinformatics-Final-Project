{
 "cells": [
  {
   "cell_type": "markdown",
   "metadata": {},
   "source": [
    "### Final Project\n",
    "\n",
    "_def amino_list(aminosequence):_\n",
    "\n",
    "The goal of this function is to process a nucleotide sequence and convert it\n",
    "into a sequence of amino acids.\n",
    "\n",
    "_def codon_dictionary():_\n",
    "\n",
    "The goal of this function is to create a codon dictionary.\n",
    "\n",
    "_def amino_string(aminosequence,splitter):_\n",
    "\n",
    "The goal of this function is to allow the user to specify a divider between the\n",
    "amino sequences if they choose to do so. This would return something like:\n",
    "AMINO*AMINO*AMINO*AMINO*AMINO, for example, if splitter=’*’\n",
    "\n",
    "_def global_alignment_matrix(sequence_one,sequence_two):_\n",
    "\n",
    "I wanted to create a function called global_alignment_matrix that would make it much easier to globally align two sequences by performing the calculations necessary and returning a 2D matrix that one can use to figure out the optimal path.\n",
    "\n"
   ]
  },
  {
   "cell_type": "code",
   "execution_count": null,
   "metadata": {},
   "outputs": [],
   "source": []
  },
  {
   "cell_type": "markdown",
   "metadata": {},
   "source": [
    "#### _def amino_list(aminosequence):_\n",
    "\n",
    "The logic is as follows: \n",
    "1. I first created an empty list called codon_ready. \n",
    "2. Then, I iterated through a range of 0,len(mRNA_sequence). I did this so that I could go through every letter of the sequence. \n",
    "3. Once I found a sequence of three consecutive letters that == 'AUG', I then knew that I could start coding with the subsequent nucleotides because I had reached the 'AUG' codon, or the 'MET' amino acid. \n",
    "4. I then iterated through this sub-sequence and added a stepsize of three to create my codons. "
   ]
  },
  {
   "cell_type": "code",
   "execution_count": 1,
   "metadata": {},
   "outputs": [],
   "source": [
    "##### Pseudo code\n",
    "\n",
    "# define amino_list with one parameter mRNA_sequence\n",
    "\n",
    "# Create empty list codon_ready\n",
    "\n",
    "# Iterate through the mRNA sequence\n",
    "\n",
    "# Check whether there are three consecutive values equal to AUG\n",
    "\n",
    "# Iterate through range of the index of 'A', which is the start of the sequence 'AUG' as confirmed in the previous step\n",
    "\n",
    "# Create codons and append them to codon_ready\n",
    "\n",
    "# Return codon_ready"
   ]
  },
  {
   "cell_type": "code",
   "execution_count": 2,
   "metadata": {},
   "outputs": [
    {
     "data": {
      "text/plain": [
       "['AUG', 'GGG', 'GAC']"
      ]
     },
     "execution_count": 2,
     "metadata": {},
     "output_type": "execute_result"
    }
   ],
   "source": [
    "# First coded attempt\n",
    "\n",
    "def amino_list(mRNA_sequence):\n",
    "    codon_ready = []\n",
    "    for i in range(0,(len(mRNA_sequence)+1)):\n",
    "        if mRNA_sequence[i:i+3].upper() == 'AUG':\n",
    "            for x in range(i,len(mRNA_sequence),3):\n",
    "                codon_ready.append(mRNA_sequence[x:x+3])\n",
    "    return codon_ready\n",
    "\n",
    "amino_list('GUACGCACCAAGAGCUUCUCGUACCAUUUCUUGUCACUACUAUGGGGGAC')"
   ]
  },
  {
   "cell_type": "code",
   "execution_count": null,
   "metadata": {},
   "outputs": [],
   "source": []
  },
  {
   "cell_type": "markdown",
   "metadata": {},
   "source": [
    "### _def codon_dictionary():_\n",
    "\n",
    "The logic is as follows:\n",
    "\n",
    "1. First I called the function codon_ready on the mRNA_sequence submitted and stored the output in the variable mRNA_updated.\n",
    "2. Then I created a codon dictionary, which is quite literally a dictionary that has the amino acid name as every key and the associated codons in a list as the values.\n",
    "3. Then, I used a list comprehension that can be broken down like this:\n",
    "\n",
    "    - I first iterated through each codon in mRNA_updated. \n",
    "    - Next, I created a nested loop and performed tuple unpacking on the codon dictionary that I created in the previous step. I then checked to see if the codon was in the list of codons associated with that amino acid. If it was, then I added that amino acid (or the key associated with the values) to the list. \n",
    "\n",
    "\n",
    "4. Finally, I returned the amino_list that I created."
   ]
  },
  {
   "cell_type": "code",
   "execution_count": 3,
   "metadata": {},
   "outputs": [],
   "source": [
    "# Pseudo code\n",
    "\n",
    "# Define a function called codon_dictionary that takes one parameter: mRNA_sequence. \n",
    "\n",
    "# Create a dictionary to represent a codon dictionary with amino acids as keys and associated codons as values.\n",
    "\n",
    "# Create a list with all of the codons in the sequence translated into their associated amino acids. \n",
    "# Check whether a codon is in each associated value list in the dictionary and select the amino if codon in value list == True.\n"
   ]
  },
  {
   "cell_type": "code",
   "execution_count": 220,
   "metadata": {},
   "outputs": [
    {
     "data": {
      "text/plain": [
       "['Met', 'Gly', 'Asp', 'STOP']"
      ]
     },
     "execution_count": 220,
     "metadata": {},
     "output_type": "execute_result"
    }
   ],
   "source": [
    "def codon_dictionary(mRNA_sequence):\n",
    "    mRNA_updated = amino_list(mRNA_sequence)\n",
    "    codon_dict = {'Phe':['UUU','UUC'],\n",
    "              'Leu':['UUA','UUG'],\n",
    "              'Ser':['CUU','CUC','CUA','CUG'],\n",
    "              'Ile':['AUU','AUC','AUA'],\n",
    "              'Val':['GUU','GUC','GUA','GUG'],\n",
    "              'Ser':['UCU','UCC','UCA','UCG','AGU','AGC'],\n",
    "              'Tyr':['UAU','UAC'],\n",
    "              'STOP':['UAA','UAG','UGA'],\n",
    "              'Cys':['UGU','UGC'],\n",
    "              'Trp':['UGG'],\n",
    "              'Pro':['CCU','CCC','CCA','CCG'],\n",
    "              'Thr':['ACU','ACC','ACA','ACG'],\n",
    "              'Ala':['GCU','GCC','GCA','GCG'],\n",
    "              'His':['CAU','CAC'],\n",
    "              'Gln':['CAA','CAG'],\n",
    "              'Asn':['AAU','AAC'],\n",
    "              'Lys':['AAA','AAG'],\n",
    "              'Asp':['GAU','GAC'],\n",
    "              'Glu':['GAA','GAG'],\n",
    "              'Arg':['CGU','CGC','CGA','CGG','AGA','AGG'],\n",
    "              'Gly':['GGU','GGC','GGA','GGG'],\n",
    "              'Met':['AUG']\n",
    "             }\n",
    "    \n",
    "    amino = [amino for seq in mRNA_updated for amino,options in codon_dict.items() if seq in options]\n",
    "    \n",
    "    if 'STOP' in amino:\n",
    "        amino = amino[0:(amino.index('STOP'))+1]\n",
    "    \n",
    "    \n",
    "    return amino\n",
    "\n",
    "codon_dictionary('GUACGCACCAAGAGCUUCUCGUACCAUUUCUUGUCACUACUAUGGGGGACUAAACU')"
   ]
  },
  {
   "cell_type": "code",
   "execution_count": null,
   "metadata": {},
   "outputs": [],
   "source": []
  },
  {
   "cell_type": "markdown",
   "metadata": {},
   "source": [
    "### _def amino_string(aminosequence,splitter):_\n",
    "\n",
    "Sometimes, scientists might not just want a basic list of amino acids. This short method allows the user to specify the splitter - what separates the amino acids - that they want. This makes use of the .join() method to join each individual amino using a specified splitter. "
   ]
  },
  {
   "cell_type": "code",
   "execution_count": 216,
   "metadata": {},
   "outputs": [],
   "source": [
    "# Pseudo code\n",
    "\n",
    "# Define a function called amino_string that accepts two parameters - aminosequence and splitter.\n",
    "\n",
    "# Convert the sequence into a list of amino acids.\n",
    "\n",
    "# Join each item in the aminosequence using the specified splitter."
   ]
  },
  {
   "cell_type": "code",
   "execution_count": 221,
   "metadata": {},
   "outputs": [],
   "source": [
    "def amino_string(aminosequence,splitter):\n",
    "    return splitter.join(codon_dictionary(aminosequence))"
   ]
  },
  {
   "cell_type": "code",
   "execution_count": 222,
   "metadata": {},
   "outputs": [
    {
     "data": {
      "text/plain": [
       "'Met-Gly-Asp'"
      ]
     },
     "execution_count": 222,
     "metadata": {},
     "output_type": "execute_result"
    }
   ],
   "source": [
    "amino_string('GUACGCACCAAGAGCUUCUCGUACCAUUUCUUGUCACUACUAUGGGGGAC','-')"
   ]
  },
  {
   "cell_type": "code",
   "execution_count": null,
   "metadata": {},
   "outputs": [],
   "source": []
  },
  {
   "cell_type": "markdown",
   "metadata": {},
   "source": [
    "### _def global_alignment_matrix(nuc_sequence,*args):_\n",
    "\n",
    "1. Global alignment of two sequences is a difficult process in bioinformatics. I wanted to create a fucntion called global_alignment_matrix that would make it much easier to quickly find the best options by creating the matrix for you! \n",
    "2. This matrix includes all of the optimized values, and is crossreferenced with the example matrix here: https://en.wikipedia.org/wiki/Needleman–Wunsch_algorithm. \n",
    "3. I used the same scoring system: -1 for gap, -1 for mismatch, 1 for match. "
   ]
  },
  {
   "cell_type": "code",
   "execution_count": 191,
   "metadata": {},
   "outputs": [],
   "source": [
    "# Pseudocode \n",
    "\n",
    "# First define a function called global_alignment_matrix and define two parameters, sequence_one and sequence_two. \n",
    "\n",
    "# Create a temporary 2D numpy array initialized with all zeros, \n",
    "# with the number of rows equal to the length of sequence_one +1 (to account for gaps needed at the beginning of sequence_one)\n",
    "# and the number of columns equal to the length of sequence_two +1 (to account for gaps needed at the beginning of sequence_two)\n",
    "\n",
    "# Make the indices equal to each individual letter in the first sequence. \n",
    "# Make the column titles equal to each individual letter in the second sequence.\n",
    "\n",
    "# Insert ' ' into both indices and columns to account for the gap at the beginning. \n",
    "\n",
    "# Iterate through the first column series in the numpy array and dynamically replace each value in the series with incrementally negative numbers. (starting from 0 and decreasing by -1 each time)\n",
    "\n",
    "# Iterate through the first row in the numpy array and follow the same process as above, except this time going through all the columns.\n",
    "\n",
    "# Iterate through all rows and columns, calculating the diagonals, horizontals, and verticals each time. \n",
    "\n",
    "# For diagonals, calculate two options: \n",
    "# Check if the nucleotide at the index position and the nucleotide at the column position are equivalent, if so add 1 to diagonal value.\n",
    "# Check if the nucleotide at the index position and the nucleotide at the column position are NOT equivalent, if so subtract 1 from diagonal value.\n",
    "\n",
    "# Append all possibilities - horizontal, vertical, and diagonal to a list. Sort the list in ascending order. \n",
    "\n",
    "# Select the last item from the list (the largest/therefore maximum) value. Set that value equal to value at matrix[x][y], as that is the maximized value.\n",
    "\n",
    "# Return the dataframe"
   ]
  },
  {
   "cell_type": "code",
   "execution_count": 192,
   "metadata": {},
   "outputs": [],
   "source": [
    "import numpy as np\n",
    "import pandas as pd\n",
    "\n",
    "def global_alignment_matrix(sequence_one,sequence_two):\n",
    "    \n",
    "    matrix = np.zeros((len(sequence_one)+1,len(sequence_two)+1))\n",
    "\n",
    "    indices = [x for x in sequence_one]\n",
    "    cols = [x for x in sequence_two]\n",
    "    indices.insert(0,' ')\n",
    "    cols.insert(0,' ')\n",
    "    dataframe = pd.DataFrame(data=matrix,index=indices,columns=cols)\n",
    "\n",
    "    x_count = 0\n",
    "    y_count = 0\n",
    "\n",
    "    for x in matrix:\n",
    "        x[0] = x_count\n",
    "        x_count-=1\n",
    "\n",
    "    for y in range(0,len(matrix[0])):\n",
    "        matrix[0][y]=y_count\n",
    "        y_count-=1\n",
    "\n",
    "    for x in range(len(matrix)):\n",
    "        for y in range(len(matrix[x])):\n",
    "\n",
    "            if x == 0 or y == 0:\n",
    "                continue\n",
    "\n",
    "            possibilities = []\n",
    "            ver = matrix[x-1][y] + (-1)\n",
    "            hor = matrix[x][y-1] + (-1)\n",
    "            diag = matrix[x-1][y-1]\n",
    "\n",
    "            if indices[x] == cols[y]:\n",
    "                diag = diag + 1\n",
    "            else:\n",
    "                diag = diag + (-1)\n",
    "\n",
    "            possibilities.append(ver)\n",
    "            possibilities.append(hor)\n",
    "            possibilities.append(diag)\n",
    "            possibilities.sort()\n",
    "            matrix[x][y] = possibilities[-1]\n",
    "            \n",
    "    return dataframe\n",
    "        "
   ]
  },
  {
   "cell_type": "code",
   "execution_count": 193,
   "metadata": {},
   "outputs": [
    {
     "data": {
      "text/html": [
       "<div>\n",
       "<style scoped>\n",
       "    .dataframe tbody tr th:only-of-type {\n",
       "        vertical-align: middle;\n",
       "    }\n",
       "\n",
       "    .dataframe tbody tr th {\n",
       "        vertical-align: top;\n",
       "    }\n",
       "\n",
       "    .dataframe thead th {\n",
       "        text-align: right;\n",
       "    }\n",
       "</style>\n",
       "<table border=\"1\" class=\"dataframe\">\n",
       "  <thead>\n",
       "    <tr style=\"text-align: right;\">\n",
       "      <th></th>\n",
       "      <th></th>\n",
       "      <th>G</th>\n",
       "      <th>C</th>\n",
       "      <th>A</th>\n",
       "      <th>T</th>\n",
       "      <th>G</th>\n",
       "      <th>C</th>\n",
       "      <th>U</th>\n",
       "    </tr>\n",
       "  </thead>\n",
       "  <tbody>\n",
       "    <tr>\n",
       "      <td></td>\n",
       "      <td>0.0</td>\n",
       "      <td>-1.0</td>\n",
       "      <td>-2.0</td>\n",
       "      <td>-3.0</td>\n",
       "      <td>-4.0</td>\n",
       "      <td>-5.0</td>\n",
       "      <td>-6.0</td>\n",
       "      <td>-7.0</td>\n",
       "    </tr>\n",
       "    <tr>\n",
       "      <td>G</td>\n",
       "      <td>-1.0</td>\n",
       "      <td>1.0</td>\n",
       "      <td>0.0</td>\n",
       "      <td>-1.0</td>\n",
       "      <td>-2.0</td>\n",
       "      <td>-3.0</td>\n",
       "      <td>-4.0</td>\n",
       "      <td>-5.0</td>\n",
       "    </tr>\n",
       "    <tr>\n",
       "      <td>A</td>\n",
       "      <td>-2.0</td>\n",
       "      <td>0.0</td>\n",
       "      <td>0.0</td>\n",
       "      <td>1.0</td>\n",
       "      <td>0.0</td>\n",
       "      <td>-1.0</td>\n",
       "      <td>-2.0</td>\n",
       "      <td>-3.0</td>\n",
       "    </tr>\n",
       "    <tr>\n",
       "      <td>T</td>\n",
       "      <td>-3.0</td>\n",
       "      <td>-1.0</td>\n",
       "      <td>-1.0</td>\n",
       "      <td>0.0</td>\n",
       "      <td>2.0</td>\n",
       "      <td>1.0</td>\n",
       "      <td>0.0</td>\n",
       "      <td>-1.0</td>\n",
       "    </tr>\n",
       "    <tr>\n",
       "      <td>T</td>\n",
       "      <td>-4.0</td>\n",
       "      <td>-2.0</td>\n",
       "      <td>-2.0</td>\n",
       "      <td>-1.0</td>\n",
       "      <td>1.0</td>\n",
       "      <td>1.0</td>\n",
       "      <td>0.0</td>\n",
       "      <td>-1.0</td>\n",
       "    </tr>\n",
       "    <tr>\n",
       "      <td>A</td>\n",
       "      <td>-5.0</td>\n",
       "      <td>-3.0</td>\n",
       "      <td>-3.0</td>\n",
       "      <td>-1.0</td>\n",
       "      <td>0.0</td>\n",
       "      <td>0.0</td>\n",
       "      <td>0.0</td>\n",
       "      <td>-1.0</td>\n",
       "    </tr>\n",
       "    <tr>\n",
       "      <td>C</td>\n",
       "      <td>-6.0</td>\n",
       "      <td>-4.0</td>\n",
       "      <td>-2.0</td>\n",
       "      <td>-2.0</td>\n",
       "      <td>-1.0</td>\n",
       "      <td>-1.0</td>\n",
       "      <td>1.0</td>\n",
       "      <td>0.0</td>\n",
       "    </tr>\n",
       "    <tr>\n",
       "      <td>A</td>\n",
       "      <td>-7.0</td>\n",
       "      <td>-5.0</td>\n",
       "      <td>-3.0</td>\n",
       "      <td>-1.0</td>\n",
       "      <td>-2.0</td>\n",
       "      <td>-2.0</td>\n",
       "      <td>0.0</td>\n",
       "      <td>0.0</td>\n",
       "    </tr>\n",
       "  </tbody>\n",
       "</table>\n",
       "</div>"
      ],
      "text/plain": [
       "          G    C    A    T    G    C    U\n",
       "   0.0 -1.0 -2.0 -3.0 -4.0 -5.0 -6.0 -7.0\n",
       "G -1.0  1.0  0.0 -1.0 -2.0 -3.0 -4.0 -5.0\n",
       "A -2.0  0.0  0.0  1.0  0.0 -1.0 -2.0 -3.0\n",
       "T -3.0 -1.0 -1.0  0.0  2.0  1.0  0.0 -1.0\n",
       "T -4.0 -2.0 -2.0 -1.0  1.0  1.0  0.0 -1.0\n",
       "A -5.0 -3.0 -3.0 -1.0  0.0  0.0  0.0 -1.0\n",
       "C -6.0 -4.0 -2.0 -2.0 -1.0 -1.0  1.0  0.0\n",
       "A -7.0 -5.0 -3.0 -1.0 -2.0 -2.0  0.0  0.0"
      ]
     },
     "execution_count": 193,
     "metadata": {},
     "output_type": "execute_result"
    }
   ],
   "source": [
    "global_alignment_matrix('GATTACA','GCATGCU')"
   ]
  },
  {
   "cell_type": "code",
   "execution_count": null,
   "metadata": {},
   "outputs": [],
   "source": []
  },
  {
   "cell_type": "code",
   "execution_count": null,
   "metadata": {},
   "outputs": [],
   "source": [
    "codon_dict = {'Phe':['UUU','UUC'],\n",
    "              'Leu':['UUA','UUG'],\n",
    "              'Ser':['CUU','CUC','CUA','CUG'],\n",
    "              'Ile':['AUU','AUC','AUA'],\n",
    "              'Val':['GUU','GUC','GUA','GUG'],\n",
    "              'Ser':['UCU','UCC','UCA','UCG','AGU','AGC'],\n",
    "              'Tyr':['UAU','UAC'],\n",
    "              'STOP':['UAA','UAG','UGA'],\n",
    "              'Cys':['UGU','UGC'],\n",
    "              'Trp':['UGG'],\n",
    "              'Pro':['CCU','CCC','CCA','CCG'],\n",
    "              'Thr':['ACU','ACC','ACA','ACG'],\n",
    "              'Ala':['GCU','GCC','GCA','GCG'],\n",
    "              'His':['CAU','CAC'],\n",
    "              'Gln':['CAA','CAG'],\n",
    "              'Asn':['AAU','AAC'],\n",
    "              'Lys':['AAA','AAG'],\n",
    "              'Asp':['GAU','GAC'],\n",
    "              'Glu':['GAA','GAG'],\n",
    "              'Arg':['CGU','CGC','CGA','CGG','AGA','AGG'],\n",
    "              'Gly':['GGU','GGC','GGA','GGG'],\n",
    "              'Met':['AUG']\n",
    "             }\n",
    "\n"
   ]
  }
 ],
 "metadata": {
  "kernelspec": {
   "display_name": "Python 3",
   "language": "python",
   "name": "python3"
  },
  "language_info": {
   "codemirror_mode": {
    "name": "ipython",
    "version": 3
   },
   "file_extension": ".py",
   "mimetype": "text/x-python",
   "name": "python",
   "nbconvert_exporter": "python",
   "pygments_lexer": "ipython3",
   "version": "3.7.4"
  }
 },
 "nbformat": 4,
 "nbformat_minor": 4
}
