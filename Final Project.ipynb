{
 "cells": [
  {
   "cell_type": "markdown",
   "metadata": {},
   "source": [
    "### Final Project\n",
    "\n",
    "_def amino_list(aminosequence):_\n",
    "\n",
    "The goal of this function is to process a nucleotide sequence and convert it\n",
    "into a sequence of amino acids.\n",
    "\n",
    "_def codon_dictionary():_\n",
    "\n",
    "The goal of this function is to create a codon dictionary.\n",
    "\n",
    "_def amino_string(aminosequence,splitter):_\n",
    "\n",
    "The goal of this function is to allow the user to specify a divider between the\n",
    "amino sequences if they choose to do so. This would return something like:\n",
    "AMINO-AMINO-AMINO-AMINO-AMINO, for example, if splitter=’-’\n",
    "\n",
    "_def global_alignment_matrix(sequence_one,sequence_two):_\n",
    "\n",
    "I wanted to create a function called global_alignment_matrix that would make it much easier to globally align two sequences by performing the calculations necessary and returning a 2D matrix that one can use to figure out the optimal path.\n",
    "\n",
    "_def transcription(dna_sequence,dir_synthesized):_\n",
    "\n",
    "The aim of this function is to identify the template and coding strand based on the direction of synthesis passed in. "
   ]
  },
  {
   "cell_type": "code",
   "execution_count": null,
   "metadata": {},
   "outputs": [],
   "source": []
  },
  {
   "cell_type": "markdown",
   "metadata": {},
   "source": [
    "#### _def amino_list(aminosequence):_\n",
    "\n",
    "The logic is as follows: \n",
    "1. I first created an empty list called codon_ready. \n",
    "2. Then, I iterated through a range of 0,len(mRNA_sequence). I did this so that I could go through every letter of the sequence. \n",
    "3. Once I found a sequence of three consecutive letters that == 'AUG', I then knew that I could start coding with the subsequent nucleotides because I had reached the 'AUG' codon, or the 'MET' amino acid. \n",
    "4. I then iterated through this sub-sequence and added a stepsize of three to create my codons. "
   ]
  },
  {
   "cell_type": "code",
   "execution_count": 1,
   "metadata": {},
   "outputs": [],
   "source": [
    "##### Pseudo code\n",
    "\n",
    "# define amino_list with one parameter mRNA_sequence\n",
    "\n",
    "# Create empty list codon_ready\n",
    "\n",
    "# Iterate through the mRNA sequence\n",
    "\n",
    "# Check whether there are three consecutive values equal to AUG\n",
    "\n",
    "# Iterate through range of the index of 'A', which is the start of the sequence 'AUG' as confirmed in the previous step\n",
    "\n",
    "# Create codons and append them to codon_ready\n",
    "\n",
    "# Return codon_ready"
   ]
  },
  {
   "cell_type": "code",
   "execution_count": 9,
   "metadata": {},
   "outputs": [
    {
     "data": {
      "text/plain": [
       "['AUG', 'GGG', 'GAC']"
      ]
     },
     "execution_count": 9,
     "metadata": {},
     "output_type": "execute_result"
    }
   ],
   "source": [
    "def amino_list(mRNA_sequence):\n",
    "    \n",
    "    '''\n",
    "    def amino_list(mRNA_sequence)\n",
    "    \n",
    "    This function accepts an mRNA_sequence of type string. \n",
    "    It returns a list of codons for analysis and scans the mRNA sequence for the start of the amino acid sequence, 'AUG'.\n",
    "    '''\n",
    "    # Initialize the final list of codons to an empty list.\n",
    "    \n",
    "    codon_ready = []\n",
    "    \n",
    "    # Iterate through the length of the sequence + 1\n",
    "    \n",
    "    for i in range(0,(len(mRNA_sequence)+1)):\n",
    "        \n",
    "        # Identify the group of three where the protein will ultimately start.\n",
    "        \n",
    "        if mRNA_sequence[i:i+3].upper() == 'AUG':\n",
    "            \n",
    "            # Iterate through range from start of 'AUG' group to the end of the sequence passed in. \n",
    "            \n",
    "            for x in range(i,len(mRNA_sequence),3):\n",
    "                \n",
    "                # Append groups of three, or codons.\n",
    "                \n",
    "                codon_ready.append(mRNA_sequence[x:x+3])\n",
    "    \n",
    "    # return list of codons\n",
    "    \n",
    "    return codon_ready\n",
    "\n",
    "amino_list('GUACGCACCAAGAGCUUCUCGUACCAUUUCUUGUCACUACUAUGGGGGAC')"
   ]
  },
  {
   "cell_type": "code",
   "execution_count": 10,
   "metadata": {},
   "outputs": [
    {
     "name": "stdout",
     "output_type": "stream",
     "text": [
      "Help on function amino_list in module __main__:\n",
      "\n",
      "amino_list(mRNA_sequence)\n",
      "    def amino_list(mRNA_sequence)\n",
      "    \n",
      "    This function accepts an mRNA_sequence of type string. \n",
      "    It returns a list of codons for analysis and scans the mRNA sequence for the start of the amino acid sequence, 'AUG'.\n",
      "\n"
     ]
    }
   ],
   "source": [
    "help(amino_list)"
   ]
  },
  {
   "cell_type": "code",
   "execution_count": null,
   "metadata": {},
   "outputs": [],
   "source": []
  },
  {
   "cell_type": "markdown",
   "metadata": {},
   "source": [
    "### _def codon_dictionary():_\n",
    "\n",
    "The logic is as follows:\n",
    "\n",
    "1. First I called the function codon_ready on the mRNA_sequence submitted and stored the output in the variable mRNA_updated.\n",
    "2. Then I created a codon dictionary, which is quite literally a dictionary that has the amino acid name as every key and the associated codons in a list as the values.\n",
    "3. Then, I used a list comprehension that can be broken down like this:\n",
    "\n",
    "    - I first iterated through each codon in mRNA_updated. \n",
    "    - Next, I created a nested loop and performed tuple unpacking on the codon dictionary that I created in the previous step. I then checked to see if the codon was in the list of codons associated with that amino acid. If it was, then I added that amino acid (or the key associated with the values) to the list. \n",
    "\n",
    "\n",
    "4. Finally, I returned the amino_list that I created."
   ]
  },
  {
   "cell_type": "code",
   "execution_count": 3,
   "metadata": {},
   "outputs": [],
   "source": [
    "# Pseudo code\n",
    "\n",
    "# Define a function called codon_dictionary that takes one parameter: mRNA_sequence. \n",
    "\n",
    "# Create a dictionary to represent a codon dictionary with amino acids as keys and associated codons as values.\n",
    "\n",
    "# Create a list with all of the codons in the sequence translated into their associated amino acids. \n",
    "# Check whether a codon is in each associated value list in the dictionary and select the amino if codon in value list == True.\n"
   ]
  },
  {
   "cell_type": "code",
   "execution_count": 6,
   "metadata": {},
   "outputs": [
    {
     "data": {
      "text/plain": [
       "['Met', 'Gly', 'Asp', 'STOP']"
      ]
     },
     "execution_count": 6,
     "metadata": {},
     "output_type": "execute_result"
    }
   ],
   "source": [
    "def codon_dictionary(mRNA_sequence):\n",
    "    \n",
    "    '''\n",
    "    codon_dictionary(mRNA_sequence)\n",
    "    \n",
    "    This function accepts an mRNA_sequence of type string and returns the sequence of amino acids that correspond to the codons in the mRNA_sequence.\n",
    "    Do not manually separate the mRNA_sequence into codons. The algorithm does that for you. Simply input an mRNA_sequence.\n",
    "    '''\n",
    "    # Call amino_list() on the sequence passed in to divide the mRNA sequence into codons.\n",
    "    \n",
    "    mRNA_updated = amino_list(mRNA_sequence)\n",
    "    \n",
    "    # Create codon_dictionary, keys = aminos and values = associated codons\n",
    "    \n",
    "    codon_dict = {'Phe':['UUU','UUC'],\n",
    "              'Leu':['UUA','UUG'],\n",
    "              'Ser':['CUU','CUC','CUA','CUG'],\n",
    "              'Ile':['AUU','AUC','AUA'],\n",
    "              'Val':['GUU','GUC','GUA','GUG'],\n",
    "              'Ser':['UCU','UCC','UCA','UCG','AGU','AGC'],\n",
    "              'Tyr':['UAU','UAC'],\n",
    "              'STOP':['UAA','UAG','UGA'],\n",
    "              'Cys':['UGU','UGC'],\n",
    "              'Trp':['UGG'],\n",
    "              'Pro':['CCU','CCC','CCA','CCG'],\n",
    "              'Thr':['ACU','ACC','ACA','ACG'],\n",
    "              'Ala':['GCU','GCC','GCA','GCG'],\n",
    "              'His':['CAU','CAC'],\n",
    "              'Gln':['CAA','CAG'],\n",
    "              'Asn':['AAU','AAC'],\n",
    "              'Lys':['AAA','AAG'],\n",
    "              'Asp':['GAU','GAC'],\n",
    "              'Glu':['GAA','GAG'],\n",
    "              'Arg':['CGU','CGC','CGA','CGG','AGA','AGG'],\n",
    "              'Gly':['GGU','GGC','GGA','GGG'],\n",
    "              'Met':['AUG']\n",
    "             }\n",
    "    \n",
    "    # Create list comprehension to iterate through mRNA_updated and the codon dictionary that \n",
    "    # identifies which amino the codon is associated with. \n",
    "    \n",
    "    amino = [amino for seq in mRNA_updated for amino,options in codon_dict.items() if seq in options]\n",
    "    \n",
    "    # Find the 'STOP' sequence in amino if one exists and modify the list so that it only goes up to the\n",
    "    # index where 'STOP' occurs, inclusive.\n",
    "    \n",
    "    if 'STOP' in amino:\n",
    "        amino = amino[0:(amino.index('STOP'))+1]\n",
    "    \n",
    "    # Return amino\n",
    "    \n",
    "    return amino\n",
    "\n",
    "codon_dictionary('GUACGCACCAAGAGCUUCUCGUACCAUUUCUUGUCACUACUAUGGGGGACUAAACU')"
   ]
  },
  {
   "cell_type": "code",
   "execution_count": 7,
   "metadata": {},
   "outputs": [
    {
     "name": "stdout",
     "output_type": "stream",
     "text": [
      "Help on function codon_dictionary in module __main__:\n",
      "\n",
      "codon_dictionary(mRNA_sequence)\n",
      "    codon_dictionary(mRNA_sequence)\n",
      "    \n",
      "    This function accepts an mRNA_sequence of type string and returns the sequence of amino acids that correspond to the codons in the mRNA_sequence.\n",
      "    Do not manually separate the mRNA_sequence into codons. The algorithm does that for you. Simply input an mRNA_sequence.\n",
      "\n"
     ]
    }
   ],
   "source": [
    "help(codon_dictionary)"
   ]
  },
  {
   "cell_type": "code",
   "execution_count": null,
   "metadata": {},
   "outputs": [],
   "source": []
  },
  {
   "cell_type": "markdown",
   "metadata": {},
   "source": [
    "### _def amino_string(aminosequence,splitter):_\n",
    "\n",
    "Sometimes, scientists might not just want a basic list of amino acids. This short method allows the user to specify the splitter - what separates the amino acids - that they want. This makes use of the .join() method to join each individual amino using a specified splitter. "
   ]
  },
  {
   "cell_type": "code",
   "execution_count": 47,
   "metadata": {},
   "outputs": [],
   "source": [
    "# Pseudo code\n",
    "\n",
    "# Define a function called amino_string that accepts two parameters - aminosequence and splitter.\n",
    "\n",
    "# Convert the sequence into a list of amino acids.\n",
    "\n",
    "# Join each item in the aminosequence using the specified splitter."
   ]
  },
  {
   "cell_type": "code",
   "execution_count": 2,
   "metadata": {},
   "outputs": [],
   "source": [
    "def amino_string(aminosequence,splitter):\n",
    "    \n",
    "    '''\n",
    "    def amino_string(aminosequence,splitter)\n",
    "    \n",
    "    This function accepts two parameters: aminosequence (str) and splitter (str). \n",
    "    Aminosequence is the sequence of amino acids. \n",
    "    Splitter is the character used to join the amino acids. \n",
    "    \n",
    "    Function will return the manipulated amino acid sequence with the individual amino acids joined by the specified splitter. \n",
    "    '''\n",
    "    # Return the amino sequence joined by the splitter specified.\n",
    "    # First creating the list of amino acids by calling codon_dictionary on aminosequence.\n",
    "    \n",
    "    return splitter.join(codon_dictionary(aminosequence))"
   ]
  },
  {
   "cell_type": "code",
   "execution_count": 49,
   "metadata": {},
   "outputs": [
    {
     "data": {
      "text/plain": [
       "'Met-Gly-Asp'"
      ]
     },
     "execution_count": 49,
     "metadata": {},
     "output_type": "execute_result"
    }
   ],
   "source": [
    "amino_string('GUACGCACCAAGAGCUUCUCGUACCAUUUCUUGUCACUACUAUGGGGGAC','-')"
   ]
  },
  {
   "cell_type": "code",
   "execution_count": 3,
   "metadata": {},
   "outputs": [
    {
     "name": "stdout",
     "output_type": "stream",
     "text": [
      "Help on function amino_string in module __main__:\n",
      "\n",
      "amino_string(aminosequence, splitter)\n",
      "    def amino_string(aminosequence,splitter)\n",
      "    \n",
      "    This function accepts two parameters: aminosequence (str) and splitter (str). \n",
      "    Aminosequence is the sequence of amino acids. \n",
      "    Splitter is the character used to join the amino acids. \n",
      "    \n",
      "    Function will return the manipulated amino acid sequence with the individual amino acids joined by the specified splitter.\n",
      "\n"
     ]
    }
   ],
   "source": [
    "help(amino_string)"
   ]
  },
  {
   "cell_type": "code",
   "execution_count": null,
   "metadata": {},
   "outputs": [],
   "source": []
  },
  {
   "cell_type": "markdown",
   "metadata": {},
   "source": [
    "### _def global_alignment_matrix(nuc_sequence,*args):_\n",
    "\n",
    "1. Global alignment of two sequences is a difficult process in bioinformatics. I wanted to create a fucntion called global_alignment_matrix that would make it much easier to quickly find the best options by creating the matrix for you! \n",
    "2. This matrix includes all of the optimized values, and is crossreferenced with the example matrix here: https://en.wikipedia.org/wiki/Needleman–Wunsch_algorithm. \n",
    "3. I used the same scoring system: -1 for gap, -1 for mismatch, 1 for match. "
   ]
  },
  {
   "cell_type": "code",
   "execution_count": 50,
   "metadata": {},
   "outputs": [],
   "source": [
    "# Pseudocode \n",
    "\n",
    "# First define a function called global_alignment_matrix and define two parameters, sequence_one and sequence_two. \n",
    "\n",
    "# Create a temporary 2D numpy array initialized with all zeros, \n",
    "# with the number of rows equal to the length of sequence_one +1 (to account for gaps needed at the beginning of sequence_one)\n",
    "# and the number of columns equal to the length of sequence_two +1 (to account for gaps needed at the beginning of sequence_two)\n",
    "\n",
    "# Make the indices equal to each individual letter in the first sequence. \n",
    "# Make the column titles equal to each individual letter in the second sequence.\n",
    "\n",
    "# Insert ' ' into both indices and columns to account for the gap at the beginning. \n",
    "\n",
    "# Iterate through the first column series in the numpy array and dynamically replace each value in the series with incrementally negative numbers. (starting from 0 and decreasing by -1 each time)\n",
    "\n",
    "# Iterate through the first row in the numpy array and follow the same process as above, except this time going through all the columns.\n",
    "\n",
    "# Iterate through all rows and columns, calculating the diagonals, horizontals, and verticals each time. \n",
    "\n",
    "# For diagonals, calculate two options: \n",
    "# Check if the nucleotide at the index position and the nucleotide at the column position are equivalent, if so add 1 to diagonal value.\n",
    "# Check if the nucleotide at the index position and the nucleotide at the column position are NOT equivalent, if so subtract 1 from diagonal value.\n",
    "\n",
    "# Append all possibilities - horizontal, vertical, and diagonal to a list. Sort the list in ascending order. \n",
    "\n",
    "# Select the last item from the list (the largest/therefore maximum) value. Set that value equal to value at matrix[x][y], as that is the maximized value.\n",
    "\n",
    "# Return the dataframe"
   ]
  },
  {
   "cell_type": "code",
   "execution_count": null,
   "metadata": {},
   "outputs": [],
   "source": [
    "# Import numpy under alias np\n",
    "\n",
    "import numpy as np\n",
    "\n",
    "# Import pandas under alias pd \n",
    "\n",
    "import pandas as pd\n",
    "\n",
    "def global_alignment_matrix(sequence_one,sequence_two):\n",
    "    \n",
    "    '''\n",
    "    def global_alignment_matrix(sequence_one,sequence_two)\n",
    "    \n",
    "    This function accepts two sequences, sequence_one and sequence_two, both of type string.\n",
    "    It will create a 2D matrix with sequence_one's individual characters as the index values and sequence_two's individual characters as the column values.\n",
    "    It will establish gaps at the beginning of both sequences. \n",
    "    \n",
    "    It will then perform a global alignment on both of these sequences and return an optimized matrix for inspection of the best alignment options.\n",
    "    \n",
    "    Scoring system: \n",
    "    \n",
    "    Mismatch = -1.\n",
    "    Match = 1.\n",
    "    Gap = -1.\n",
    "    '''\n",
    "    \n",
    "    # First create a matrix of zeros with col length sequence_two +1 and index length sequence_two +1\n",
    "    \n",
    "    matrix = np.zeros((len(sequence_one)+1,len(sequence_two)+1))\n",
    "    \n",
    "    # Make indices equal to all individual nucleotides in sequence one.\n",
    "    \n",
    "    indices = [x for x in sequence_one]\n",
    "    \n",
    "    # Make columns equal to all individual nucleotides in sequence two.\n",
    "    \n",
    "    cols = [x for x in sequence_two]\n",
    "    \n",
    "    # Insert a gap at the start of the index. \n",
    "    \n",
    "    indices.insert(0,' ')\n",
    "    \n",
    "    # Insert a gap at the start of the column. \n",
    "    \n",
    "    cols.insert(0,' ')\n",
    "    \n",
    "    # Create a dataframe and populate the cells in the matrix with the 2D matrix array data AND\n",
    "    # make the indexes equal to the list comprehension 'indices' we made before and make the columns equal to the\n",
    "    # list comprehension 'cols' we made before. \n",
    "    \n",
    "    dataframe = pd.DataFrame(data=matrix,index=indices,columns=cols)\n",
    "    \n",
    "    # Create two basic counters and initialize them to 0.\n",
    "    \n",
    "    x_count = 0\n",
    "    y_count = 0\n",
    "    \n",
    "    # Iterate through the first column in the matrix and dynamically set each cell in the series equal to count\n",
    "    # and subtract one from count each time. \n",
    "    \n",
    "    for x in matrix:\n",
    "        x[0] = x_count\n",
    "        x_count-=1\n",
    "\n",
    "    # Iterate through the first row in the matrix and dynamically set each cell in the series equal to count\n",
    "    # and subtract one from count each time. \n",
    "    \n",
    "    for y in range(0,len(matrix[0])):\n",
    "        matrix[0][y]=y_count\n",
    "        y_count-=1\n",
    "\n",
    "    \n",
    "    # Iterate through each row and column in the row. \n",
    "    \n",
    "    for x in range(len(matrix)):\n",
    "        for y in range(len(matrix[x])):\n",
    "            \n",
    "            # If x is either == 0, meaning that it's in the first row that we already manipulated above (plus it wouldn't have a vertical or diagnoal option)\n",
    "            # or y == 0, meaning it's in the first column, which we also already manipulated above as well (it also wouldn't have diagonal OR horizontal options), \n",
    "            # WE SKIP IT! \n",
    "            \n",
    "            if x == 0 or y == 0:\n",
    "                continue\n",
    "            \n",
    "            # Now that we're done with the step above, we create our list of possibilities.\n",
    "            \n",
    "            possibilities = []\n",
    "            \n",
    "            # Vertical options are always looking at the cell directly above the current (x,y) coordinate. \n",
    "            # We always stay in the same column for the vertical options BUT we move up by one row, or (x-1,y)\n",
    "            # For both vertical and horizontal options, we add -1 to represent the gap. \n",
    "            \n",
    "            ver = matrix[x-1][y] + (-1)\n",
    "            \n",
    "            # Horizontal options look at cell directly left-adjacent and always stay in same row (move left by one for the column).\n",
    "            # Thus, for horizontals, we have (x,y-1) instead of (x,y).\n",
    "            \n",
    "            hor = matrix[x][y-1] + (-1)\n",
    "            \n",
    "            # For diagonals, we know we have to both move up by one for the rows and left by one for columns. Thus, the coordinates are (x-1,y-1)\n",
    "            \n",
    "            diag = matrix[x-1][y-1]\n",
    "            \n",
    "            # For diagonals, we have to take into account two possibilities by checking if the nucleotides at that particular (x,y) are the same.\n",
    "            # If so, they're a match and we add 1 to the value at the diagonal. \n",
    "            # Otherwise, they're a mismatch and we subtract 1 to the value at the diagonal. \n",
    "            \n",
    "            if indices[x] == cols[y]:\n",
    "                diag = diag + 1\n",
    "            else:\n",
    "                diag = diag + (-1)\n",
    "            \n",
    "            # After factoring in mismatch/match possibilities, we append all of the options to possibilities. \n",
    "            possibilities.append(ver)\n",
    "            possibilities.append(hor)\n",
    "            possibilities.append(diag)\n",
    "            \n",
    "            # In order to actually get the maximum/optimal value, I sort and take the highest value in the list. \n",
    "            \n",
    "            possibilities.sort()\n",
    "            \n",
    "            # Set the cell value equal to the highest value in the list.\n",
    "            \n",
    "            matrix[x][y] = possibilities[-1]\n",
    "    \n",
    "    # Return the updated dataframe.\n",
    "    \n",
    "    return dataframe\n",
    "        "
   ]
  },
  {
   "cell_type": "code",
   "execution_count": null,
   "metadata": {},
   "outputs": [],
   "source": [
    "global_alignment_matrix('GATTACA','GCATGCU')"
   ]
  },
  {
   "cell_type": "code",
   "execution_count": 1,
   "metadata": {},
   "outputs": [
    {
     "ename": "NameError",
     "evalue": "name 'global_alignment_matrix' is not defined",
     "output_type": "error",
     "traceback": [
      "\u001b[0;31m---------------------------------------------------------------------------\u001b[0m",
      "\u001b[0;31mNameError\u001b[0m                                 Traceback (most recent call last)",
      "\u001b[0;32m<ipython-input-1-d01a14947df2>\u001b[0m in \u001b[0;36m<module>\u001b[0;34m\u001b[0m\n\u001b[0;32m----> 1\u001b[0;31m \u001b[0mhelp\u001b[0m\u001b[0;34m(\u001b[0m\u001b[0mglobal_alignment_matrix\u001b[0m\u001b[0;34m)\u001b[0m\u001b[0;34m\u001b[0m\u001b[0;34m\u001b[0m\u001b[0m\n\u001b[0m",
      "\u001b[0;31mNameError\u001b[0m: name 'global_alignment_matrix' is not defined"
     ]
    }
   ],
   "source": [
    "help(global_alignment_matrix)"
   ]
  },
  {
   "cell_type": "code",
   "execution_count": null,
   "metadata": {},
   "outputs": [],
   "source": []
  },
  {
   "cell_type": "markdown",
   "metadata": {},
   "source": [
    "### _def transcription(dna_sequence,dir_synthesized)_\n",
    "\n",
    "The aim of this function is to identify the template and coding strand based on the direction of synthesis passed in. For example, if the dir_synthesized == 3, then the direction would be regarded as 5-->3. If the dir_synthesized == 5, then the direction would be regarded as 3-->5. Since, mRNA is only synthesized in the 5-->3 direction, the template strand can only be one that runs from 3-->5. Therefore, if the sequence passed in was in the direction 3-->5, it is regarded as the template strand. Otherwise, the daughter DNA strand that is also formatted and manipulated in the function is regarded as the template strand. "
   ]
  },
  {
   "cell_type": "code",
   "execution_count": 37,
   "metadata": {},
   "outputs": [],
   "source": [
    "# Pseudocode \n",
    "\n",
    "# Define a function called transcription that takes two parameters dna_sequence and dir_synthesized. \n",
    "# dna_sequence should be a DNA sequence and dir_synthesized should be the direction that the sequence was synthesized in.\n",
    "\n",
    "# Create variables to store the updated direction, the modified coding/template strand, and the mRNA sequence.\n",
    "\n",
    "# Iterate through the dna_sequence passed in. Create the daughter strand and store it in dna_updated.\n",
    "\n",
    "# Check the direction. If the dir_synthesized == 5, then treat the direction as 3-->5 and make the dna_sequence the template strand.\n",
    "# If the dir_synthesized == 3, treat the direction as 5-->3 and make dna_updated the template strand. \n",
    "\n",
    "# Iterate through the template strand to create the mRNA sequence. \n",
    "# A-->U\n",
    "# T-->A\n",
    "# C-->G\n",
    "# G-->C\n",
    "\n",
    "# Return a formatted string literal that describes what the template strand was, which direction the dna_sequence was synthesized in, and what the mRNA sequence was. "
   ]
  },
  {
   "cell_type": "code",
   "execution_count": 6,
   "metadata": {},
   "outputs": [],
   "source": [
    "def transcription(dna_sequence,dir_synthesized):\n",
    "    \n",
    "    '''\n",
    "    def transcription(dna_sequence,dir_synthesized)\n",
    "    \n",
    "    Accepts two parameters, a dna_sequence of type string and a dir_synthesized of type int.\n",
    "    dir_synthesized can only be 3 or 5. If 5, algorithm treats synthesis direction as 3-->5. If 3, synthesis direction is 5-->3.\n",
    "    \n",
    "    Function prints out a statement that describes the template strand, the direction of the accepted dna_sequence, and the mRNA sequence.\n",
    "    Function also returns the mRNA sequence as a string.\n",
    "    \n",
    "    \n",
    "    '''\n",
    "    # Initialize direction to None\n",
    "    \n",
    "    direction = None\n",
    "    \n",
    "    # Initialize template_strand to None\n",
    "    \n",
    "    template_strand = None\n",
    "    \n",
    "    # Initialize dna_updated to an empty string.\n",
    "    \n",
    "    dna_updated = ''\n",
    "    \n",
    "    # Initialize mRNA to an empty string.\n",
    "    \n",
    "    mRNA = ''\n",
    "    \n",
    "    # Interate through the dna_sequence passed in and update dna_updated with complementary nucleotides. \n",
    "    \n",
    "    for x in dna_sequence:\n",
    "        \n",
    "        # 'T' becomes 'A'\n",
    "        \n",
    "        if x == 'T':\n",
    "            dna_updated+='A'\n",
    "            \n",
    "        # 'G' becomes 'C'\n",
    "        \n",
    "        elif x == 'G':\n",
    "            dna_updated+='C'\n",
    "            \n",
    "        # 'C' becomes 'G'\n",
    "        \n",
    "        elif x == 'C':\n",
    "            dna_updated+='G'\n",
    "            \n",
    "        # 'A' becomes 'T'\n",
    "        \n",
    "        else:\n",
    "            dna_updated+='T'\n",
    "\n",
    "    \n",
    "    # Check to see if the direction that the dna_sequence was synthesized in was 5. \n",
    "    \n",
    "    if dir_synthesized == 5:\n",
    "        \n",
    "        # If the direction was 3-->5, the template strand will be the dna_sequence. \n",
    "        \n",
    "        template_strand = dna_sequence\n",
    "        \n",
    "        # Set string version of direction equal to 3-->5.\n",
    "        \n",
    "        direction = '3-->5'\n",
    "        \n",
    "    else:\n",
    "        \n",
    "        # If direction was 3, then make the template strand dna_updated. \n",
    "        \n",
    "        template_strand = dna_updated\n",
    "        \n",
    "        # Set the string version of the direction equal to 5-->3. \n",
    "        \n",
    "        direction = '5-->3'\n",
    "    \n",
    "    # Iterate through the template strand and create the mRNA sequence. \n",
    "    \n",
    "    for nuc in template_strand:\n",
    "        \n",
    "        # T becomes A\n",
    "        \n",
    "        if nuc == 'T':\n",
    "            mRNA+='A'\n",
    "            \n",
    "        # G becomes C\n",
    "        \n",
    "        elif nuc == 'G':\n",
    "            mRNA+='C'\n",
    "        \n",
    "        # C becomes G\n",
    "        \n",
    "        elif nuc == 'C':\n",
    "            mRNA+='G'\n",
    "        \n",
    "        # A becomes U\n",
    "        \n",
    "        else:\n",
    "            mRNA+='U'\n",
    "    \n",
    "    # Print a f-string literal that clarifies what the template strand was, what the direction was, and what the mRNA sequence was. \n",
    "    \n",
    "    print(f'The sequence {template_strand} was the template strand because your submitted sequence was synthesized in the {direction} direction, and strands must be antiparallel. The synthesized mRNA strand is {mRNA} and was synthesized in the 5-->3 direction.')\n",
    "    \n",
    "    # Return the mRNA sequence.\n",
    "    \n",
    "    return mRNA\n",
    "            "
   ]
  },
  {
   "cell_type": "code",
   "execution_count": 7,
   "metadata": {},
   "outputs": [
    {
     "name": "stdout",
     "output_type": "stream",
     "text": [
      "The sequence ACACGGCTTAA was the template strand because your submitted sequence was synthesized in the 3-->5 direction, and strands must be antiparallel. The synthesized mRNA strand is UGUGCCGAAUU and was synthesized in the 5-->3 direction.\n"
     ]
    },
    {
     "data": {
      "text/plain": [
       "'UGUGCCGAAUU'"
      ]
     },
     "execution_count": 7,
     "metadata": {},
     "output_type": "execute_result"
    }
   ],
   "source": [
    "transcription('ACACGGCTTAA', 5)"
   ]
  },
  {
   "cell_type": "code",
   "execution_count": 8,
   "metadata": {},
   "outputs": [
    {
     "name": "stdout",
     "output_type": "stream",
     "text": [
      "Help on function transcription in module __main__:\n",
      "\n",
      "transcription(dna_sequence, dir_synthesized)\n",
      "    def transcription(dna_sequence,dir_synthesized)\n",
      "    \n",
      "    Accepts two parameters, a dna_sequence of type string and a dir_synthesized of type int.\n",
      "    dir_synthesized can only be 3 or 5. If 5, algorithm treats synthesis direction as 3-->5. If 3, synthesis direction is 5-->3.\n",
      "    \n",
      "    Function prints out a statement that describes the template strand, the direction of the accepted dna_sequence, and the mRNA sequence.\n",
      "    Function also returns the mRNA sequence as a string.\n",
      "\n"
     ]
    }
   ],
   "source": [
    "help(transcription)"
   ]
  },
  {
   "cell_type": "code",
   "execution_count": null,
   "metadata": {},
   "outputs": [],
   "source": []
  },
  {
   "cell_type": "code",
   "execution_count": null,
   "metadata": {},
   "outputs": [],
   "source": []
  }
 ],
 "metadata": {
  "kernelspec": {
   "display_name": "Python 3",
   "language": "python",
   "name": "python3"
  },
  "language_info": {
   "codemirror_mode": {
    "name": "ipython",
    "version": 3
   },
   "file_extension": ".py",
   "mimetype": "text/x-python",
   "name": "python",
   "nbconvert_exporter": "python",
   "pygments_lexer": "ipython3",
   "version": "3.7.6"
  }
 },
 "nbformat": 4,
 "nbformat_minor": 4
}
